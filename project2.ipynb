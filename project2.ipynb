{
  "nbformat": 4,
  "nbformat_minor": 0,
  "metadata": {
    "colab": {
      "provenance": []
    },
    "kernelspec": {
      "name": "python3",
      "display_name": "Python 3"
    },
    "language_info": {
      "name": "python"
    }
  },
  "cells": [
    {
      "cell_type": "markdown",
      "source": [
        "Finding how many \"R\", \"S\", and \"N\" in the given 500 days recorded for the weather in the Land of Oz.\n",
        "\n",
        "SSRNRNSSSSSSNRSNSSRNSRNSSSNSRRRNSSSNRRSSSSNRSSNSRR\n",
        "RRRRNSSSSSRRRSNSNRRRRSRSRNSNSRRNRRNRSSNSRNRNSSRRSR\n",
        "NSSSNRSRRSSNRSNRRNSSSSNSSNSRSRRNSSNSSRNSSRRNRRRSRN\n",
        "RRRNSSSNRNSRNSNRNRSSSRSSNRSSSNSSSSSSNSSSNSNSRRNRNR\n",
        "RRRSRRRSSSSNRRSSSSRSRRRNRRRSSSSRRNRRRSRSSRRRRSSRNR\n",
        "RRRRRNSSRNRSSSNRNSNRRRRNRRRNRSNRRNSRRSNRRRRSSSRNRR\n",
        "RNSNSSSSSRRRRSRNRSSRRRRSSSRRRNRNRRRSRSRNSNSSRRRRRN\n",
        "SNRNSNRRNRRRRRRSSSNRSSRSNRSSSNSNRNSNSSSNRRSRRRNRRR\n",
        "RNRNRSSSNSRSNRNRRSNRRNSRSSSRNSRRSSNSRRRNRRSNRRNSSS\n",
        "SSNRNSSSSSSSNRNSRRRNSSRRRNSSSNRRSRNSSRRNRRNRSNRRRR"
      ],
      "metadata": {
        "id": "H9_Y3-XCpzue"
      }
    },
    {
      "cell_type": "code",
      "execution_count": 2,
      "metadata": {
        "colab": {
          "base_uri": "https://localhost:8080/"
        },
        "id": "KTWJoiOzpvP7",
        "outputId": "67adabed-25ba-40d1-d70b-27815bcf6bcf"
      },
      "outputs": [
        {
          "output_type": "stream",
          "name": "stdout",
          "text": [
            "SS count: 95\n",
            "SR count: 49\n",
            "SN count: 47\n",
            "RR count: 101\n",
            "RS count: 46\n",
            "RN count: 57\n",
            "NR count: 55\n",
            "NS count: 49\n"
          ]
        }
      ],
      "source": [
        "days = \"SSRNRNSSSSSSNRSNSSRNSRNSSSNSRRRNSSSNRRSSSSNRSSNSRRRRRRNSSSSSRRRSNSNRRRRSRSRNSNSRRNRRNRSSNSRNRNSSRRSRNSSSNRSRRSSNRSNRRNSSSSNSSNSRSRRNSSNSSRNSSRRNRRRSRNRRRNSSSNRNSRNSNRNRSSSRSSNRSSSNSSSSSSNSSSNSNSRRNRNRRRRSRRRSSSSNRRSSSSRSRRRNRRRSSSSRRNRRRSRSSRRRRSSRNRRRRRRNSSRNRSSSNRNSNRRRRNRRRNRSNRRNSRRSNRRRRSSSRNRRRNSNSSSSSRRRRSRNRSSRRRRSSSRRRNRNRRRSRSRNSNSSRRRRRNSNRNSNRRNRRRRRRSSSNRSSRSNRSSSNSNRNSNSSSNRRSRRRNRRRRNRNRSSSNSRSNRNRRSNRRNSRSSSRNSRRSSNSRRRNRRSNRRNSSSSSNRNSSSSSSSNRNSRRRNSSRRRNSSSNRRSRNSSRRNRRNRSNRRRR\"\n",
        "\n",
        "# Initialize counters for 'SS', 'SR', 'SN', 'RR', 'RS', 'RN', 'NR', and 'NS'.\n",
        "count_SS = 0\n",
        "count_SR = 0\n",
        "count_SN = 0\n",
        "count_RR = 0\n",
        "count_RS = 0\n",
        "count_RN = 0\n",
        "count_NR = 0\n",
        "count_NS = 0\n",
        "\n",
        "# Loop through the string and check for pairs\n",
        "for i in range(len(days) -1):\n",
        "  pair = days[i:i+2]\n",
        "  if pair == \"SS\":\n",
        "    count_SS += 1\n",
        "  elif pair == \"SR\":\n",
        "    count_SR += 1\n",
        "  elif pair == \"SN\":\n",
        "    count_SN += 1\n",
        "  elif pair == \"RR\":\n",
        "    count_RR += 1\n",
        "  elif pair == \"RS\":\n",
        "    count_RS += 1\n",
        "  elif pair == \"RN\":\n",
        "    count_RN += 1\n",
        "  elif pair == \"NR\":\n",
        "    count_NR += 1\n",
        "  elif pair == \"NS\":\n",
        "    count_NS += 1\n",
        "\n",
        "# Print\n",
        "print(f\"SS count: {count_SS}\")\n",
        "print(f\"SR count: {count_SR}\")\n",
        "print(f\"SN count: {count_SN}\")\n",
        "print(f\"RR count: {count_RR}\")\n",
        "print(f\"RS count: {count_RS}\")\n",
        "print(f\"RN count: {count_RN}\")\n",
        "print(f\"NR count: {count_NR}\")\n",
        "print(f\"NS count: {count_NS}\")"
      ]
    }
  ]
}
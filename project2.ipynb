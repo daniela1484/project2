{
  "nbformat": 4,
  "nbformat_minor": 0,
  "metadata": {
    "colab": {
      "provenance": []
    },
    "kernelspec": {
      "name": "python3",
      "display_name": "Python 3"
    },
    "language_info": {
      "name": "python"
    }
  },
  "cells": [
    {
      "cell_type": "markdown",
      "source": [
        "**Objective**:\n",
        "\n",
        "The aim of this project is to determine the number of nice (**N**), rainy (**R**), and snowy (**S**) days in the Land of Oz during a 30-day month. We have access to weather data recorded over a 500-day period.\n",
        "\n",
        "**Data Collection**:\n",
        "\n",
        "We begin by extracting probabilities from the provided data for the three distinct weather types. Combination such as \"Snow and Rain\" (**SR**), \"Rain and Rain\" (**RR**), and \"Nice and Snow\" (**NS**) are possible. This leads to the following sets: '**SS**', '**SR**', '**SN**', '**RR**', '**RS**', '**RN**', '**NR**', and '**NS**'.\n",
        "\n",
        "**Data Processing**:\n",
        "\n",
        "Eight counters are initialized to zero, each representing a specific weather set. The program iterates through the 500 days of data in pairs to determine the frequency of each set's occurrence. Once the counts for each pair are obtained, the script displays the number of occurrences for each distinct combination."
      ],
      "metadata": {
        "id": "0gwFbUMkR42x"
      }
    },
    {
      "cell_type": "code",
      "execution_count": null,
      "metadata": {
        "colab": {
          "base_uri": "https://localhost:8080/"
        },
        "id": "KTWJoiOzpvP7",
        "outputId": "df166d5b-c230-4f04-f92a-6cc7ba3f50b5"
      },
      "outputs": [
        {
          "output_type": "stream",
          "name": "stdout",
          "text": [
            "R \n",
            "499\n",
            " \n",
            "500\n",
            "SS count: 95\n",
            "SR count: 49\n",
            "SN count: 47\n",
            "RR count: 101\n",
            "RS count: 46\n",
            "RN count: 57\n",
            "NR count: 55\n",
            "NS count: 49\n"
          ]
        }
      ],
      "source": [
        "days = \"SSRNRNSSSSSSNRSNSSRNSRNSSSNSRRRNSSSNRRSSSSNRSSNSRRRRRRNSSSSSRRRSNSNRRRRSRSRNSNSRRNRRNRSSNSRNRNSSRRSRNSSSNRSRRSSNRSNRRNSSSSNSSNSRSRRNSSNSSRNSSRRNRRRSRNRRRNSSSNRNSRNSNRNRSSSRSSNRSSSNSSSSSSNSSSNSNSRRNRNRRRRSRRRSSSSNRRSSSSRSRRRNRRRSSSSRRNRRRSRSSRRRRSSRNRRRRRRNSSRNRSSSNRNSNRRRRNRRRNRSNRRNSRRSNRRRRSSSRNRRRNSNSSSSSRRRRSRNRSSRRRRSSSRRRNRNRRRSRSRNSNSSRRRRRNSNRNSNRRNRRRRRRSSSNRSSRSNRSSSNSNRNSNSSSNRRSRRRNRRRRNRNRSSSNSRSNRNRRSNRRNSRSSSRNSRRSSNSRRRNRRSNRRNSSSSSNRNSSSSSSSNRNSRRRNSSRRRNSSSNRRSRNSSRRNRRNRSNRRRR \"\n",
        "\n",
        "# Initialize counters for 'SS', 'SR', 'SN', 'RR', 'RS', 'RN', 'NR', and 'NS'.\n",
        "count_SS = 0\n",
        "count_SR = 0\n",
        "count_SN = 0\n",
        "count_RR = 0\n",
        "count_RS = 0\n",
        "count_RN = 0\n",
        "count_NR = 0\n",
        "count_NS = 0\n",
        "\n",
        "j = 0\n",
        "# Loop through the string and check for pairs\n",
        "for i in range(0, len(days)):\n",
        "  j = j + 1\n",
        "  pair = days[i:i+2]\n",
        "  if pair == \"SS\":\n",
        "    count_SS += 1\n",
        "  elif pair == \"SR\":\n",
        "    count_SR += 1\n",
        "  elif pair == \"SN\":\n",
        "    count_SN += 1\n",
        "  elif pair == \"RR\":\n",
        "    count_RR += 1\n",
        "  elif pair == \"RS\":\n",
        "    count_RS += 1\n",
        "  elif pair == \"RN\":\n",
        "    count_RN += 1\n",
        "  elif pair == \"NR\":\n",
        "    count_NR += 1\n",
        "  elif pair == \"NS\":\n",
        "    count_NS += 1\n",
        "  else:\n",
        "    print(pair)\n",
        "    print(i)\n",
        "\n",
        "# Print\n",
        "print(f\"SS count: {count_SS}\")\n",
        "print(f\"SR count: {count_SR}\")\n",
        "print(f\"SN count: {count_SN}\")\n",
        "print(f\"RR count: {count_RR}\")\n",
        "print(f\"RS count: {count_RS}\")\n",
        "print(f\"RN count: {count_RN}\")\n",
        "print(f\"NR count: {count_NR}\")\n",
        "print(f\"NS count: {count_NS}\")"
      ]
    },
    {
      "cell_type": "markdown",
      "source": [
        "For each distinct combination, the number of occurrences and the total for each weather condition are presented below:\n",
        "\n",
        "Total **S**: 191\n",
        "  - **SS**: 95\n",
        "  - **SR**: 49\n",
        "  - **SN**: 47\n",
        "\n",
        "Total **R**: 204\n",
        "  - **RR**: 101\n",
        "  - **RS**: 46\n",
        "  - **RN**: 57\n",
        "\n",
        "Total **N**: 104\n",
        "  - **NR**: 55\n",
        "  - **NS**: 49"
      ],
      "metadata": {
        "id": "3FrUkdBMSEBh"
      }
    },
    {
      "cell_type": "markdown",
      "source": [
        "**Methodology**:\n",
        "\n",
        "To determine the number of days in a 30-day month with varying weather conditions, we employ two key variables. The transitional matrix, represented as **P**, encapsulates the probabilities of transitioning from one weather condition to another, calculated by dividing the number of occurrences by the total of each specified weather condition. To set up the matrix in the system of equations, the transpose of **P** is calculated and subtracted from the identity matrix **I** of the same dimension. For the sum constraint, a row of ones is added to ensure that the sum of the stationary distribution is equal to 1. The equation is then solved using the least-squares method.\n"
      ],
      "metadata": {
        "id": "h5ZmByQDok0b"
      }
    },
    {
      "cell_type": "code",
      "source": [
        "# Libraries needed\n",
        "import numpy as np\n",
        "import sympy as sp"
      ],
      "metadata": {
        "id": "lWz7C_xa8Ebb"
      },
      "execution_count": 81,
      "outputs": []
    },
    {
      "cell_type": "code",
      "source": [
        "# Define the transition matrix\n",
        "P = np.array([[0, 0.528846, 0.4711538],\n",
        "              [0.2794118, 0.495098, 0.2254902],\n",
        "              [0.2460733, 0.256545, 0.4973822]], dtype=np.float64)\n",
        "\n",
        "# Calculate the stationary distribution\n",
        "# We solve πP = π, which can be rewritten as π(P.T - I) = 0,\n",
        "# where I is the identity matrix\n",
        "# We add a constraint that the sum of π must be 1\n",
        "\n",
        "# Create the augmented matrix for the system\n",
        "n = P.shape[0]\n",
        "A = np.vstack((P.T - np.eye(n), np.ones(n)))\n",
        "b = np.zeros(n + 1)\n",
        "b[-1] = 1  # The sum of the probabilities should be 1\n",
        "\n",
        "# Solve the system using least squares\n",
        "solution = np.linalg.lstsq(A, b, rcond=None)[0]\n",
        "\n",
        "# The solution gives us the stationary distribution\n",
        "print(\"Stationary distribution:\", solution)"
      ],
      "metadata": {
        "colab": {
          "base_uri": "https://localhost:8080/"
        },
        "id": "p86xdDIn1M89",
        "outputId": "bcd4d7dc-50c2-4218-ba53-aafe82134c00"
      },
      "execution_count": 82,
      "outputs": [
        {
          "output_type": "stream",
          "name": "stdout",
          "text": [
            "Stationary distribution: [0.2084879  0.41147501 0.38003708]\n"
          ]
        }
      ]
    },
    {
      "cell_type": "markdown",
      "source": [
        "**Results**:\n",
        "\n",
        "After obtaining the stationary distribution, the outputs are summed to verify if the result equals 1. This verification confirms the accuracy of the outputs. Once the summation is checked, each output is multiplied by 30, representing the proposed 30-day month. This multiplication provides us with the number of nice (**N**), rain (**R**), and snow (**S**) days in the Land of Oz during a 30-day month."
      ],
      "metadata": {
        "id": "_IJ-nP4nrdxV"
      }
    },
    {
      "cell_type": "markdown",
      "source": [
        "  0.2084879\n",
        "\\+ 0.41147501 + 0.38003708 = **1**\n",
        "\n",
        "0.2084879 x 30 = **6.254638** = **N**ice\n",
        "\n",
        "0.41147501 x 30 = **12.344247** = **R**ain\n",
        "\n",
        "0.38003708 x 30 = **11.4011151** = **S**now\n",
        "\n",
        "\n",
        "TOTAL       30 days"
      ],
      "metadata": {
        "id": "Dv43csQdFmS-"
      }
    },
    {
      "cell_type": "markdown",
      "source": [
        "\n",
        "\n",
        "This script simulates the changing distribution of days throughout a month in the Land of Oz, leveraging a transitional matrix to model the probabilities of transitioning between different weather conditions. The resulting distribution, obtained after 30 iterations, provides valuable insights into the expected weather patterns based on the defined probabilities."
      ],
      "metadata": {
        "id": "wYc5L0NvtJNE"
      }
    }
  ]
}
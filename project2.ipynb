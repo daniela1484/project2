{
  "nbformat": 4,
  "nbformat_minor": 0,
  "metadata": {
    "colab": {
      "provenance": []
    },
    "kernelspec": {
      "name": "python3",
      "display_name": "Python 3"
    },
    "language_info": {
      "name": "python"
    }
  },
  "cells": [
    {
      "cell_type": "markdown",
      "source": [
        "**Objective**:\n",
        "\n",
        "The aim of this project is to determine the number of nice (**N**), rainy (**R**), and snowy (**S**) days in the Land of Oz during a 30-day month. We have access to weather data recorded over a 500-day period.\n",
        "\n",
        "**Data Collection**:\n",
        "\n",
        "We begin by extracting probabilities from the provided data for the three distinct weather types. Combination such as \"Snow and Rain\" (**SR**), \"Rain and Rain\" (**RR**), and \"Nice and Snow\" (**NS**) are possible. This leads to the following sets: '**SS**', '**SR**', '**SN**', '**RR**', '**RS**', '**RN**', '**NR**', and '**NS**'.\n",
        "\n",
        "**Data Processing**:\n",
        "\n",
        "Eight counters are initialized to zero, each representing a specific weather set. The program iterates through the 500 days of data in pairs to determine the frequency of each set's occurrence. Once the counts for each pair are obtained, the script displays the number of occurrences for each distinct combination."
      ],
      "metadata": {
        "id": "0gwFbUMkR42x"
      }
    },
    {
      "cell_type": "code",
      "execution_count": null,
      "metadata": {
        "colab": {
          "base_uri": "https://localhost:8080/"
        },
        "id": "KTWJoiOzpvP7",
        "outputId": "df166d5b-c230-4f04-f92a-6cc7ba3f50b5"
      },
      "outputs": [
        {
          "output_type": "stream",
          "name": "stdout",
          "text": [
            "R \n",
            "499\n",
            " \n",
            "500\n",
            "SS count: 95\n",
            "SR count: 49\n",
            "SN count: 47\n",
            "RR count: 101\n",
            "RS count: 46\n",
            "RN count: 57\n",
            "NR count: 55\n",
            "NS count: 49\n"
          ]
        }
      ],
      "source": [
        "days = \"SSRNRNSSSSSSNRSNSSRNSRNSSSNSRRRNSSSNRRSSSSNRSSNSRRRRRRNSSSSSRRRSNSNRRRRSRSRNSNSRRNRRNRSSNSRNRNSSRRSRNSSSNRSRRSSNRSNRRNSSSSNSSNSRSRRNSSNSSRNSSRRNRRRSRNRRRNSSSNRNSRNSNRNRSSSRSSNRSSSNSSSSSSNSSSNSNSRRNRNRRRRSRRRSSSSNRRSSSSRSRRRNRRRSSSSRRNRRRSRSSRRRRSSRNRRRRRRNSSRNRSSSNRNSNRRRRNRRRNRSNRRNSRRSNRRRRSSSRNRRRNSNSSSSSRRRRSRNRSSRRRRSSSRRRNRNRRRSRSRNSNSSRRRRRNSNRNSNRRNRRRRRRSSSNRSSRSNRSSSNSNRNSNSSSNRRSRRRNRRRRNRNRSSSNSRSNRNRRSNRRNSRSSSRNSRRSSNSRRRNRRSNRRNSSSSSNRNSSSSSSSNRNSRRRNSSRRRNSSSNRRSRNSSRRNRRNRSNRRRR \"\n",
        "\n",
        "# Initialize counters for 'SS', 'SR', 'SN', 'RR', 'RS', 'RN', 'NR', and 'NS'.\n",
        "count_SS = 0\n",
        "count_SR = 0\n",
        "count_SN = 0\n",
        "count_RR = 0\n",
        "count_RS = 0\n",
        "count_RN = 0\n",
        "count_NR = 0\n",
        "count_NS = 0\n",
        "\n",
        "j = 0\n",
        "# Loop through the string and check for pairs\n",
        "for i in range(0, len(days)):\n",
        "  j = j + 1\n",
        "  pair = days[i:i+2]\n",
        "  if pair == \"SS\":\n",
        "    count_SS += 1\n",
        "  elif pair == \"SR\":\n",
        "    count_SR += 1\n",
        "  elif pair == \"SN\":\n",
        "    count_SN += 1\n",
        "  elif pair == \"RR\":\n",
        "    count_RR += 1\n",
        "  elif pair == \"RS\":\n",
        "    count_RS += 1\n",
        "  elif pair == \"RN\":\n",
        "    count_RN += 1\n",
        "  elif pair == \"NR\":\n",
        "    count_NR += 1\n",
        "  elif pair == \"NS\":\n",
        "    count_NS += 1\n",
        "  else:\n",
        "    print(pair)\n",
        "    print(i)\n",
        "\n",
        "# Print\n",
        "print(f\"SS count: {count_SS}\")\n",
        "print(f\"SR count: {count_SR}\")\n",
        "print(f\"SN count: {count_SN}\")\n",
        "print(f\"RR count: {count_RR}\")\n",
        "print(f\"RS count: {count_RS}\")\n",
        "print(f\"RN count: {count_RN}\")\n",
        "print(f\"NR count: {count_NR}\")\n",
        "print(f\"NS count: {count_NS}\")"
      ]
    },
    {
      "cell_type": "markdown",
      "source": [
        "For each distinct combination, the number of occurrences and the total for each weather condition are presented below:\n",
        "\n",
        "Total **S**: 191\n",
        "  - **SS**: 95\n",
        "  - **SR**: 49\n",
        "  - **SN**: 47\n",
        "\n",
        "Total **R**: 204\n",
        "  - **RR**: 101\n",
        "  - **RS**: 46\n",
        "  - **RN**: 57\n",
        "\n",
        "Total **N**: 104\n",
        "  - **NR**: 55\n",
        "  - **NS**: 49"
      ],
      "metadata": {
        "id": "3FrUkdBMSEBh"
      }
    },
    {
      "cell_type": "markdown",
      "source": [
        "**Methodology**:\n",
        "\n",
        "To determine the number of days in a 30-day month with varying weather conditions, we employ two key variables. The transitional matrix, represented as **P**, encapsulates the probabilities of transitioning from one weather condition to another, calculated by dividing the number of occurrences by the total of each specified weather condition. Additionally, the initial distribution, denoted as **D0**, reflects the initial proportions of normal (**N**), rainy (**R**), and snowy (**S**) days in a 30-day month period.\n",
        "  - **N** days: 7/30,\n",
        "  - **R** days: 7/30,\n",
        "  - and **S** days: 16/30.\n",
        "\n",
        "We initialize a variable, **D**, to the initial distribution **D0**. A loop is then executed 30 times,simulating the transitions over the course of a month. Within each iteration, the matrix multiplication operator '*@* ' is utilized to update **D** and represent the distribution of days after applying the transition probabilities defined in the transitional matrix **P**."
      ],
      "metadata": {
        "id": "h5ZmByQDok0b"
      }
    },
    {
      "cell_type": "code",
      "source": [
        "import numpy as np\n",
        "\n",
        "# Transition matrix\n",
        "P = np.array([[0, 55/104, 49/104],\n",
        "              [57/204, 101/204, 46/204],\n",
        "              [47/191, 49/191, 95/191]], dtype=np.float64)\n",
        "\n",
        "# Initial distribution based on the first 30 days of given 500\n",
        "D0 = np.array([7/30, 7/30, 16/30], dtype=np.float64)\n",
        "\n",
        "# Iterate 30 times to simulate 30 days\n",
        "D = D0\n",
        "for _ in range(30):\n",
        "    D = D @ P  # Matrix multiplication\n",
        "\n",
        "print(D)"
      ],
      "metadata": {
        "colab": {
          "base_uri": "https://localhost:8080/"
        },
        "id": "m_Yp3vX6JGsL",
        "outputId": "1b6278e4-5bbb-4267-ee3b-d48db17f8aea"
      },
      "execution_count": null,
      "outputs": [
        {
          "output_type": "stream",
          "name": "stdout",
          "text": [
            "[0.20848793 0.4114749  0.38003717]\n"
          ]
        }
      ]
    },
    {
      "cell_type": "markdown",
      "source": [
        "**Results**:\n",
        "\n",
        "After calculating the resulting distribution, we add the outputs to verify if the result is 1. This verification ensures that the outputs are accurate. Once we've checked the summation of the outputs, we multiply each output by 30, representing the proposed 30-day month. This multiplication provides us with the number of nice (**N**), rain (**R**), and snow (**S**) days in the Land of Oz during a 30-day month."
      ],
      "metadata": {
        "id": "_IJ-nP4nrdxV"
      }
    },
    {
      "cell_type": "markdown",
      "source": [
        "\n",
        "\n",
        "This script simulates the changing distribution of days throughout a month in the Land of Oz, leveraging a transitional matrix to model the probabilities of transitioning between different weather conditions. The resulting distribution, obtained after 30 iterations, provides valuable insights into the expected weather patterns based on the defined probabilities."
      ],
      "metadata": {
        "id": "wYc5L0NvtJNE"
      }
    }
  ]
}